{
  "nbformat": 4,
  "nbformat_minor": 0,
  "metadata": {
    "colab": {
      "name": "R-lecture-1-printing.ipynb",
      "provenance": [],
      "collapsed_sections": []
    },
    "kernelspec": {
      "name": "ir",
      "display_name": "R"
    }
  },
  "cells": [
    {
      "cell_type": "markdown",
      "metadata": {
        "id": "8v1IjthJEzd4"
      },
      "source": [
        "# Lecture R Programming\n",
        "## 1. การแสดงผล\n",
        "\n",
        "function แสดงข้อความ `print()` และ `cat()`\n",
        "\n"
      ]
    },
    {
      "cell_type": "code",
      "metadata": {
        "colab": {
          "base_uri": "https://localhost:8080/"
        },
        "id": "PfI86LuJEw2X",
        "outputId": "87a03f4a-b72f-4f31-eee8-abca4b64694f"
      },
      "source": [
        "print(\"Welcome to R with print\")"
      ],
      "execution_count": null,
      "outputs": [
        {
          "output_type": "stream",
          "text": [
            "[1] \"Welcome to R\"\n"
          ],
          "name": "stdout"
        }
      ]
    },
    {
      "cell_type": "markdown",
      "metadata": {
        "id": "GHhyP4tzJTnH"
      },
      "source": [
        "function การแสดงข้อความแบบ `cat()` ซึ่งสามารถ"
      ]
    },
    {
      "cell_type": "code",
      "metadata": {
        "id": "yNyZ_cLMJRm5",
        "colab": {
          "base_uri": "https://localhost:8080/"
        },
        "outputId": "f5ece521-bcad-4e16-cfa8-9b9437574e6d"
      },
      "source": [
        "cat(\"Welcome to R with cat\")"
      ],
      "execution_count": null,
      "outputs": [
        {
          "output_type": "stream",
          "text": [
            "Welcome to R"
          ],
          "name": "stdout"
        }
      ]
    },
    {
      "cell_type": "markdown",
      "metadata": {
        "id": "QRSPUdoxJdBS"
      },
      "source": [
        "ความแตกต่างคือ `print()` จะมีลักษณะการขึ้นบรรทัดใหม่ให้แต่ `cat()` ไม่เป็นเช่นนั้น ตัวอย่างดังต่อไปนี้"
      ]
    },
    {
      "cell_type": "code",
      "metadata": {
        "colab": {
          "base_uri": "https://localhost:8080/"
        },
        "id": "uE3fIqIWJ6Va",
        "outputId": "2f73ce86-fa35-4df8-8157-c0f5e3b4c9e5"
      },
      "source": [
        "print(\"Welcome to Thailand with print\")\n",
        "print(\"Welcome for what ? with print\")\n",
        "\n",
        "print(\"Are you like thai food ? with print\"); print(\"Yes. i like thai food with print\") # บรรทัดเดียวกันให้ใช้ ; คั่น"
      ],
      "execution_count": 1,
      "outputs": [
        {
          "output_type": "stream",
          "text": [
            "[1] \"Welcome to Thailand with print\"\n",
            "[1] \"Welcome for what ? with print\"\n",
            "[1] \"Are you like thai food ? with print\"\n",
            "[1] \"Yes. i like thai food with print\"\n"
          ],
          "name": "stdout"
        }
      ]
    },
    {
      "cell_type": "code",
      "metadata": {
        "colab": {
          "base_uri": "https://localhost:8080/"
        },
        "id": "qhyOwVbPKbr9",
        "outputId": "d2d81104-8003-4d03-c521-62f0e4893d29"
      },
      "source": [
        "cat(\"Welcome to Thailand with cat\")\n",
        "cat(\"Welcome for what ?  with cat\")\n",
        "\n",
        "cat(\"Are you like thai food ?  with cat\"); cat(\"Yes. i like thai food  with cat\") # บรรทัดเดียวกันให้ใช้ ; คั่น"
      ],
      "execution_count": 2,
      "outputs": [
        {
          "output_type": "stream",
          "text": [
            "Welcome to Thailand with catWelcome for what ?  with catAre you like thai food ?  with catYes. i like thai food  with cat"
          ],
          "name": "stdout"
        }
      ]
    },
    {
      "cell_type": "markdown",
      "metadata": {
        "id": "JUfDPZ3-Km1L"
      },
      "source": [
        "จากตัวอย่าง Code ด้านบนจะเมื่อลอง Run ผลลัพท์ที่ได้ก็คืออ่านแบบ `cat()` ยากมาก เพราะไม่มีการแบ่งบรรทัดให้ เราจะต้องเพิ่ม อักขระพิเศษเข้าไปเพื่อให้ `cat()` รู้ว่าควรจะขึ้นบรรทัดใหม่ได้แล้ว อย่าง `\\n` ( New line )\n",
        "  \n",
        "หากสนใจเรื่อง `\\n` คืออะไรและมีอย่างอื่นอีกไหม สามารถอ่านได้จากลิ้งนี้ https://en.wikipedia.org/wiki/Escape_sequences_in_C\n",
        "\n",
        "เราจะลองเพิ่ม `\\n` ให้ทั้ง `print()` และ `cat()` เพื่อดูความแตกต่าง"
      ]
    },
    {
      "cell_type": "code",
      "metadata": {
        "colab": {
          "base_uri": "https://localhost:8080/"
        },
        "id": "M16TAe1YLBEr",
        "outputId": "4375da0c-a47b-49d5-89c5-e0cacb4c3dd6"
      },
      "source": [
        "print(\"Welcome to\\nThailand\") #ลองเพิ่ม \\n ให้กับ print ด้วย\n",
        "\n",
        "cat(\"Welcome to\\nThailand\")"
      ],
      "execution_count": null,
      "outputs": [
        {
          "output_type": "stream",
          "text": [
            "[1] \"Welcome to\\nThailand\"\n",
            "Welcome to\n",
            "Thailand"
          ],
          "name": "stdout"
        }
      ]
    },
    {
      "cell_type": "markdown",
      "metadata": {
        "id": "v_SUG3tPLOgV"
      },
      "source": [
        "ผลที่ได้ก็คือ `print()` ไม่สามารถแปลงค่า `\\n` ได้ แต่ `cat()` สามารถแปลงค่า `\\n` ได้"
      ]
    },
    {
      "cell_type": "markdown",
      "metadata": {
        "id": "NJNvvO4RMeQs"
      },
      "source": [
        "\n",
        "\n",
        "---\n",
        "\n",
        "\n",
        "อีกเรื่องที่น่าสนใจไม่แพ้กันคือ การต่อ ข้อความของ `cat()` ที่มีประโยชน์ในการนำมาแสดงผลข้อความและค่าอื่น ๆ ผสมกันได้"
      ]
    },
    {
      "cell_type": "code",
      "metadata": {
        "colab": {
          "base_uri": "https://localhost:8080/"
        },
        "id": "PJv6x876Ms0p",
        "outputId": "29412dc1-0669-49b7-fa42-749f5027a091"
      },
      "source": [
        "countryName <- \"Thailand\" # จะพูดถึงการประกาศ parameter ในบทถัดไป\n",
        "cat(\"Welcome to\", countryName) #ต้องการนำ Welcome to มาต่อกับค่าในตัวแปร countryName"
      ],
      "execution_count": null,
      "outputs": [
        {
          "output_type": "stream",
          "text": [
            "Welcome to Thailand"
          ],
          "name": "stdout"
        }
      ]
    },
    {
      "cell_type": "markdown",
      "metadata": {
        "id": "5RW5w13MM98h"
      },
      "source": [
        "จะสังเกตเห็นว่า ผลการ run ที่ได้เป็น `Welcome to Thailand` สิ่งที่มีเพิ่มมาจาก code ที่เขียนไปคือการแทรก Spacebar ให้ระหว่างค่าเสมอของ `cat()` ลองดูอีกตัวอย่าง"
      ]
    },
    {
      "cell_type": "code",
      "metadata": {
        "colab": {
          "base_uri": "https://localhost:8080/"
        },
        "id": "99KvxVw_NQIQ",
        "outputId": "e53389c0-3131-45d0-8572-3ffca75e12f5"
      },
      "source": [
        "countryName1 <- \"Thailand\"\n",
        "countryName2 <- \"England\"\n",
        "cat(\"Welcome to\", countryName1,\"and\",countryName2)"
      ],
      "execution_count": null,
      "outputs": [
        {
          "output_type": "stream",
          "text": [
            "Welcome to Thailand and England"
          ],
          "name": "stdout"
        }
      ]
    },
    {
      "cell_type": "markdown",
      "metadata": {
        "id": "A0HrIb5NNqMB"
      },
      "source": [
        "ถ้าหากต้องการบอกให้ `cat()` ไม่ต้องเติม spacebar คั่นกลางก็คือการเพิ่ม option `sep = \"\"` ลงไปใน `cat()` ดังต่อไปนี้\n",
        "\n",
        "`sep` ย่อมากจาก **separate** แปลว่าแยก ในที่นี้หมายถึง ข้อความจะแยกโดย `\"\"` (อักษร ว่างๆ)"
      ]
    },
    {
      "cell_type": "code",
      "metadata": {
        "colab": {
          "base_uri": "https://localhost:8080/"
        },
        "id": "9TyzhoxzN21d",
        "outputId": "11845598-4b04-4d0a-ea4f-7bb535b79990"
      },
      "source": [
        "countryName1 <- \"Thailand\"\n",
        "countryName2 <- \"England\"\n",
        "cat(\"Welcome to\", countryName1,\"and\",countryName2, sep = \"\")"
      ],
      "execution_count": 3,
      "outputs": [
        {
          "output_type": "stream",
          "text": [
            "Welcome toThailandandEngland"
          ],
          "name": "stdout"
        }
      ]
    },
    {
      "cell_type": "markdown",
      "metadata": {
        "id": "KOxCahT8IyAD"
      },
      "source": [
        "หรือลองใส่ `sep` เป็นอย่างอื่นดูก็ได้ครับ เช่น `\"-\"`"
      ]
    },
    {
      "cell_type": "code",
      "metadata": {
        "colab": {
          "base_uri": "https://localhost:8080/"
        },
        "id": "XwE6eD3II4Nd",
        "outputId": "5c183896-f4ad-4406-95bf-e5b972a94d3d"
      },
      "source": [
        "cat(\"Welcome to\", countryName1,\"and\",countryName2, sep = \"-\")"
      ],
      "execution_count": 4,
      "outputs": [
        {
          "output_type": "stream",
          "text": [
            "Welcome to-Thailand-and-England"
          ],
          "name": "stdout"
        }
      ]
    }
  ]
}